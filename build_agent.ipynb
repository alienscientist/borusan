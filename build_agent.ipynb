{
 "cells": [
  {
   "cell_type": "code",
   "execution_count": 1,
   "metadata": {},
   "outputs": [],
   "source": [
    "from llama_index.indices.query.query_transform.base import (\n",
    "    DecomposeQueryTransform,\n",
    ")\n",
    "from llama_index import LLMPredictor\n",
    "from llama_index.query_engine.transform_query_engine import (\n",
    "    TransformQueryEngine,\n",
    ")\n",
    "\n",
    "from agent_builder import *"
   ]
  },
  {
   "cell_type": "code",
   "execution_count": 2,
   "metadata": {},
   "outputs": [],
   "source": [
    "storage_dir = \"./model_storage/\"\n",
    "data_dir = \"./data/\"\n",
    "\n",
    "car_models = [\"model_3\", \"model_y\", \"model_s\"]"
   ]
  },
  {
   "cell_type": "code",
   "execution_count": 3,
   "metadata": {},
   "outputs": [],
   "source": [
    "# Load all model documents\n",
    "model_docs = {}\n",
    "for model in car_models:\n",
    "    model_docs[model] = SimpleDirectoryReader(\n",
    "        input_files=[data_dir + f\"{model}.pdf\"]\n",
    "    ).load_data()"
   ]
  },
  {
   "cell_type": "code",
   "execution_count": 4,
   "metadata": {},
   "outputs": [],
   "source": [
    "doc_agents, indices, llm = build_document_agents(storage_dir=storage_dir, docs=model_docs)"
   ]
  },
  {
   "cell_type": "markdown",
   "metadata": {},
   "source": [
    "### build_document_agents functions is taken from : https://github.com/run-llama/create_llama_projects/blob/main/multi-document-agent/README.md"
   ]
  },
  {
   "cell_type": "code",
   "execution_count": 5,
   "metadata": {},
   "outputs": [
    {
     "data": {
      "text/plain": [
       "{'model_3': <llama_index.agent.openai_agent.OpenAIAgent at 0x18d38355210>,\n",
       " 'model_y': <llama_index.agent.openai_agent.OpenAIAgent at 0x18d3e3a3a00>,\n",
       " 'model_s': <llama_index.agent.openai_agent.OpenAIAgent at 0x18d39ad2e60>}"
      ]
     },
     "execution_count": 5,
     "metadata": {},
     "output_type": "execute_result"
    }
   ],
   "source": [
    "doc_agents"
   ]
  },
  {
   "cell_type": "code",
   "execution_count": 6,
   "metadata": {},
   "outputs": [],
   "source": [
    "index_summaries = {}\n",
    "for model in car_models:\n",
    "    # set summary text for city\n",
    "    index_summaries[model] = (\n",
    "        f\"This content is from technical documents of Tesla {model}. \"\n",
    "        f\"Use this index if you need to lookup specific facts about {model}.\\n\"\n",
    "        \"Do not use this index if you want to analyze multiple models.\"\n",
    "    )"
   ]
  },
  {
   "cell_type": "code",
   "execution_count": 7,
   "metadata": {},
   "outputs": [],
   "source": [
    "graph = ComposableGraph.from_indices(\n",
    "    SimpleKeywordTableIndex,\n",
    "    [index for _, index in indices.items()],\n",
    "    [summary for _, summary in index_summaries.items()],\n",
    "    max_keywords_per_chunk=50,\n",
    ")\n",
    "\n",
    "root_index = graph.get_index()\n",
    "# set id of root index\n",
    "root_index.set_index_id(\"compare_contrast\")\n",
    "root_index.summary = (\n",
    "    \"This index contains technical documents of multiple Tesla models. \"\n",
    "    \"Use this index if you want to compare Tesla models. \"\n",
    ")\n",
    "\n",
    "\n",
    "decompose_transform = DecomposeQueryTransform(\n",
    "    LLMPredictor(llm=llm), verbose=True\n",
    ")\n",
    "\n",
    "custom_query_engines = {}\n",
    "for index in indices.values():\n",
    "    query_engine = index.as_query_engine()\n",
    "    query_engine = TransformQueryEngine(\n",
    "        query_engine,\n",
    "        query_transform=decompose_transform,\n",
    "        transform_metadata={\"index_summary\": index.index_struct.summary},\n",
    "    )\n",
    "    custom_query_engines[index.index_id] = query_engine\n",
    "    \n",
    "custom_query_engines[graph.root_id] = root_index.as_query_engine(\n",
    "    retriever_mode=\"simple\",\n",
    "    response_mode=\"tree_summarize\"\n",
    ")\n",
    "\n",
    "# define query engine\n",
    "graph_query_engine = graph.as_query_engine(custom_query_engines=custom_query_engines)\n"
   ]
  },
  {
   "cell_type": "markdown",
   "metadata": {},
   "source": [
    "### Graph query engine and the design of unified query framework is built upon the example in: https://docs.llamaindex.ai/en/stable/understanding/putting_it_all_together/q_and_a/unified_query.html"
   ]
  },
  {
   "cell_type": "code",
   "execution_count": 8,
   "metadata": {},
   "outputs": [],
   "source": [
    "all_tools = []\n",
    "for model in doc_agents.keys():\n",
    "    model_summary = (\n",
    "        f\"This content contains technical documents of Tesla {model}. Use\"\n",
    "        f\" this tool if you want to answer any questions about {model}.\\n\"\n",
    "    )\n",
    "    doc_tool = QueryEngineTool(\n",
    "        query_engine=doc_agents[model],\n",
    "        metadata=ToolMetadata(\n",
    "            name=f\"tool_{model}\",\n",
    "            description=model_summary,\n",
    "        ),\n",
    "    )\n",
    "    all_tools.append(doc_tool)\n",
    "      \n",
    "model_summary = (\n",
    "    f\"This content contains technical documents of all Tesla models. Use\"\n",
    "    f\" this tool if you want to compare the spesifications of any Tesla models. \\n\"\n",
    ")\n",
    "doc_tool = QueryEngineTool(\n",
    "    query_engine=graph_query_engine,\n",
    "    metadata=ToolMetadata(\n",
    "        name=f\"tool_compare_contrast\",\n",
    "        description=model_summary,\n",
    "    ),\n",
    ")\n",
    "all_tools.append(doc_tool)\n",
    "\n",
    "\n",
    "tool_mapping = SimpleToolNodeMapping.from_objects(all_tools)\n",
    "# if obj_index doesn't already exist\n",
    "if not os.path.exists(f\"./{storage_dir}/top\"):\n",
    "    storage_context = StorageContext.from_defaults()\n",
    "    obj_index = ObjectIndex.from_objects(\n",
    "        all_tools, tool_mapping, VectorStoreIndex, storage_context=storage_context\n",
    "    )\n",
    "    storage_context.persist(persist_dir=f\"./{storage_dir}/top\")\n",
    "    # TODO: don't access private property\n",
    "\n",
    "else:\n",
    "    # initialize storage context from existing storage\n",
    "    storage_context = StorageContext.from_defaults(\n",
    "        persist_dir=f\"./{storage_dir}/top\"\n",
    "    )\n",
    "    index = load_index_from_storage(storage_context)\n",
    "    obj_index = ObjectIndex(index, tool_mapping)\n",
    "\n",
    "top_agent = OpenAIAgent.from_tools(\n",
    "    tool_retriever=obj_index.as_retriever(similarity_top_k=5),\n",
    "    system_prompt=\"\"\" \\\n",
    "        You are an agent designed to answer queries about Tesla cars. \\\n",
    "        Please always use the tools provided to answer a question. \\\n",
    "        Do not rely on prior knowledge.\\\n",
    "\n",
    "\"\"\",\n",
    "    verbose=True\n",
    ")"
   ]
  },
  {
   "cell_type": "markdown",
   "metadata": {},
   "source": [
    "### node mapping and top agent building part is taken from : https://github.com/run-llama/create_llama_projects/blob/main/multi-document-agent/README.md"
   ]
  },
  {
   "cell_type": "code",
   "execution_count": 9,
   "metadata": {},
   "outputs": [
    {
     "name": "stdout",
     "output_type": "stream",
     "text": [
      "STARTING TURN 1\n",
      "---------------\n",
      "\n",
      "=== Calling Function ===\n",
      "Calling function: tool_model_3 with args: {\n",
      "\"input\": \"suspension system\"\n",
      "}\n",
      "STARTING TURN 1\n",
      "---------------\n",
      "\n",
      "=== Calling Function ===\n",
      "Calling function: vector_tool with args: {\n",
      "\"input\": \"suspension system\"\n",
      "}\n",
      "Got output: The suspension system of the vehicle is described as independent, with a double wishbone setup in the front and a multi-link setup in the rear. It also includes coil springs and telescopic dampers.\n",
      "========================\n",
      "\n",
      "STARTING TURN 2\n",
      "---------------\n",
      "\n",
      "Got output: The suspension system of the Model 3 is designed to provide a smooth and comfortable ride. It features an independent suspension with a double wishbone setup in the front and a multi-link setup in the rear. This configuration helps to improve handling and stability while also providing a comfortable ride.\n",
      "\n",
      "The suspension system includes coil springs and telescopic dampers. The coil springs help to absorb bumps and uneven road surfaces, while the telescopic dampers help to control the movement of the suspension and maintain stability.\n",
      "\n",
      "Overall, the suspension system of the Model 3 is designed to provide a balance between comfort and performance, allowing for a smooth and enjoyable driving experience.\n",
      "========================\n",
      "\n",
      "STARTING TURN 2\n",
      "---------------\n",
      "\n"
     ]
    }
   ],
   "source": [
    "model_query_response = top_agent.query(\"What are the technical specifications of Model 3's suspension system?\")"
   ]
  },
  {
   "cell_type": "code",
   "execution_count": 14,
   "metadata": {},
   "outputs": [
    {
     "name": "stdout",
     "output_type": "stream",
     "text": [
      "The suspension system of the Tesla Model 3 consists of an independent suspension with a double wishbone setup in the front and a multi-link setup in the rear. It is designed to provide a smooth and comfortable ride while also improving handling and stability. The system includes coil springs and telescopic dampers to absorb bumps and control the movement of the suspension. Overall, the suspension system of the Model 3 aims to provide a balance between comfort and performance for an enjoyable driving experience.\n"
     ]
    }
   ],
   "source": [
    "print(model_query_response)"
   ]
  },
  {
   "cell_type": "code",
   "execution_count": 10,
   "metadata": {},
   "outputs": [
    {
     "name": "stdout",
     "output_type": "stream",
     "text": [
      "STARTING TURN 1\n",
      "---------------\n",
      "\n",
      "=== Calling Function ===\n",
      "Calling function: tool_model_s with args: {\n",
      "  \"input\": \"summary\"\n",
      "}\n",
      "STARTING TURN 1\n",
      "---------------\n",
      "\n",
      "=== Calling Function ===\n",
      "Calling function: summary_tool with args: {\n",
      "  \"input\": \"model_s\"\n",
      "}\n",
      "Got output: The Model S owner's manual is a comprehensive guide that provides detailed information on various aspects of the vehicle. It covers topics such as the vehicle's features, configuration, market region, and software version. The manual includes instructions on how to access and adjust the climate controls on the touchscreen. It explains that the default setting is Auto, which maintains optimum comfort in most weather conditions. The manual also mentions that the climate control system is powered by the high voltage Battery and prolonged use may decrease driving range. Additionally, it provides a warning for individuals with limited pain sensation to exercise caution when using the climate control system and seat heaters. For more specific instructions and guidelines, it's important to refer to the manual.\n",
      "========================\n",
      "\n",
      "STARTING TURN 2\n",
      "---------------\n",
      "\n",
      "Got output: The Model S owner's manual is a comprehensive guide that provides detailed information on various aspects of the vehicle. It covers topics such as the vehicle's features, configuration, market region, and software version. The manual includes instructions on how to access and adjust the climate controls on the touchscreen. It explains that the default setting is Auto, which maintains optimum comfort in most weather conditions. The manual also mentions that the climate control system is powered by the high voltage Battery and prolonged use may decrease driving range. Additionally, it provides a warning for individuals with limited pain sensation to exercise caution when using the climate control system and seat heaters. For more specific instructions and guidelines, it's important to refer to the manual.\n",
      "========================\n",
      "\n",
      "STARTING TURN 2\n",
      "---------------\n",
      "\n"
     ]
    }
   ],
   "source": [
    "summary_query_response = top_agent.query(\"Summarize the technical spesification of Tesla model S that can be important for customers.\")"
   ]
  },
  {
   "cell_type": "code",
   "execution_count": 11,
   "metadata": {},
   "outputs": [
    {
     "name": "stdout",
     "output_type": "stream",
     "text": [
      "The technical specifications of the Tesla Model S that can be important for customers include:\n",
      "\n",
      "1. Range: The Model S offers different range options depending on the battery configuration. The Long Range version has an estimated range of up to 412 miles (EPA) on a full charge, while the Performance version has a slightly lower range of up to 387 miles (EPA).\n",
      "\n",
      "2. Performance: The Model S Performance version offers impressive acceleration, with a 0-60 mph time as low as 1.99 seconds. It also has a top speed of up to 200 mph.\n",
      "\n",
      "3. Battery: The Model S is equipped with a high-capacity battery pack that provides power to the electric motors. The battery pack is designed to be durable and long-lasting, with a warranty that covers 8 years or 150,000 miles (whichever comes first).\n",
      "\n",
      "4. Charging: The Model S supports fast charging using Tesla's Supercharger network, allowing for quick charging on long-distance trips. It is also compatible with other charging networks using the CCS (Combined Charging System) standard.\n",
      "\n",
      "5. Autopilot: The Model S comes with Tesla's Autopilot system, which offers advanced driver-assistance features such as adaptive cruise control, lane centering, and automatic emergency braking. It is designed to enhance safety and provide a more comfortable driving experience.\n",
      "\n",
      "6. Interior and Technology: The Model S features a spacious and luxurious interior with premium materials and advanced technology. It includes a large touchscreen display for controlling various vehicle functions, including navigation, media, and climate control. The Model S also offers over-the-air software updates, allowing for continuous improvement and new feature additions.\n",
      "\n",
      "7. Safety: The Model S has received top safety ratings from various organizations, including a 5-star overall safety rating from the National Highway Traffic Safety Administration (NHTSA). It is equipped with advanced safety features such as multiple airbags, collision avoidance systems, and a reinforced battery pack for added protection.\n",
      "\n",
      "These are just some of the important technical specifications of the Tesla Model S that customers may find relevant when considering the purchase of this electric vehicle.\n"
     ]
    }
   ],
   "source": [
    "print(summary_query_response)"
   ]
  },
  {
   "cell_type": "code",
   "execution_count": 21,
   "metadata": {},
   "outputs": [
    {
     "name": "stdout",
     "output_type": "stream",
     "text": [
      "STARTING TURN 1\n",
      "---------------\n",
      "\n",
      "=== Calling Function ===\n",
      "Calling function: tool_compare_contrast with args: {\n",
      "\"input\": \"active safety features of Tesla model 3, model y, and model s\"\n",
      "}\n",
      "\u001b[1;3;33m> Current query: active safety features of Tesla model 3, model y, and model s\n",
      "\u001b[0m\u001b[1;3;38;5;200m> New query: What are the active safety features of the Tesla Model 3?\n",
      "\u001b[0m\u001b[1;3;33m> Current query: active safety features of Tesla model 3, model y, and model s\n",
      "\u001b[0m\u001b[1;3;38;5;200m> New query: What are the active safety features of the Tesla Model 3?\n",
      "\u001b[0m\u001b[1;3;33m> Current query: active safety features of Tesla model 3, model y, and model s\n",
      "\u001b[0m\u001b[1;3;38;5;200m> New query: What are the active safety features of Tesla Model Y according to the technical documents?\n",
      "\u001b[0m\u001b[1;3;33m> Current query: active safety features of Tesla model 3, model y, and model s\n",
      "\u001b[0m\u001b[1;3;38;5;200m> New query: What are the active safety features of Tesla Model Y according to the technical documents?\n",
      "\u001b[0m\u001b[1;3;33m> Current query: active safety features of Tesla model 3, model y, and model s\n",
      "\u001b[0m\u001b[1;3;38;5;200m> New query: What are the active safety features of the Tesla Model S?\n",
      "\u001b[0m\u001b[1;3;33m> Current query: active safety features of Tesla model 3, model y, and model s\n",
      "\u001b[0m\u001b[1;3;38;5;200m> New query: What are the active safety features of the Tesla Model S?\n",
      "\u001b[0mGot output: The active safety features of the Tesla Model 3 include Traffic-Aware Cruise Control, Autosteer, Auto Lane Change, Navigate on Autopilot, Autopark, Summon, Smart Summon, Traffic Light & Stop Sign Control, and Autosteer on City Streets (Full Self-Driving (Beta)).\n",
      "\n",
      "The active safety features of the Tesla Model Y include Electronic Stability Control, Traction Control, Trailer Mode (if equipped), Vehicle Hold, Autopilot, Traffic-Aware Cruise Control, Autosteer, Auto Lane Change, Navigate on Autopilot, Autopark, Summon, Smart Summon, Traffic Light & Stop Sign Control, and Autosteer on City Streets (Full Self-Driving Beta).\n",
      "\n",
      "The active safety features of the Tesla Model S include Forward Collision Warning, Automatic Emergency Braking, Obstacle-Aware Acceleration, Traffic-Aware Cruise Control, Autosteer, Auto Lane Change, Navigate on Autopilot, Autopark, Summon, Smart Summon, Traffic Light & Stop Sign Control, and Autosteer on City Streets (Full Self-Driving Beta).\n",
      "========================\n",
      "\n",
      "STARTING TURN 2\n",
      "---------------\n",
      "\n"
     ]
    }
   ],
   "source": [
    "comparison_query_response = top_agent.query(\"Compare and contrast the active safety features of Tesla model 3 and model y and model s.\")"
   ]
  },
  {
   "cell_type": "code",
   "execution_count": 22,
   "metadata": {},
   "outputs": [
    {
     "name": "stdout",
     "output_type": "stream",
     "text": [
      "Here is a comparison of the active safety features of the Tesla Model 3, Model Y, and Model S:\n",
      "\n",
      "Tesla Model 3:\n",
      "- Traffic-Aware Cruise Control\n",
      "- Autosteer\n",
      "- Auto Lane Change\n",
      "- Navigate on Autopilot\n",
      "- Autopark\n",
      "- Summon\n",
      "- Smart Summon\n",
      "- Traffic Light & Stop Sign Control\n",
      "- Autosteer on City Streets (Full Self-Driving Beta)\n",
      "\n",
      "Tesla Model Y:\n",
      "- Electronic Stability Control\n",
      "- Traction Control\n",
      "- Trailer Mode (if equipped)\n",
      "- Vehicle Hold\n",
      "- Autopilot\n",
      "- Traffic-Aware Cruise Control\n",
      "- Autosteer\n",
      "- Auto Lane Change\n",
      "- Navigate on Autopilot\n",
      "- Autopark\n",
      "- Summon\n",
      "- Smart Summon\n",
      "- Traffic Light & Stop Sign Control\n",
      "- Autosteer on City Streets (Full Self-Driving Beta)\n",
      "\n",
      "Tesla Model S:\n",
      "- Forward Collision Warning\n",
      "- Automatic Emergency Braking\n",
      "- Obstacle-Aware Acceleration\n",
      "- Traffic-Aware Cruise Control\n",
      "- Autosteer\n",
      "- Auto Lane Change\n",
      "- Navigate on Autopilot\n",
      "- Autopark\n",
      "- Summon\n",
      "- Smart Summon\n",
      "- Traffic Light & Stop Sign Control\n",
      "- Autosteer on City Streets (Full Self-Driving Beta)\n",
      "\n",
      "Please note that the availability of certain features may vary depending on the specific model and software version.\n"
     ]
    }
   ],
   "source": [
    "print(comparison_query_response)"
   ]
  }
 ],
 "metadata": {
  "kernelspec": {
   "display_name": "streamlit_conda",
   "language": "python",
   "name": "python3"
  },
  "language_info": {
   "codemirror_mode": {
    "name": "ipython",
    "version": 3
   },
   "file_extension": ".py",
   "mimetype": "text/x-python",
   "name": "python",
   "nbconvert_exporter": "python",
   "pygments_lexer": "ipython3",
   "version": "3.10.0"
  }
 },
 "nbformat": 4,
 "nbformat_minor": 2
}
